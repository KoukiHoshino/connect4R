{
 "cells": [
  {
   "cell_type": "code",
   "execution_count": 3,
   "metadata": {},
   "outputs": [],
   "source": [
    "import numpy as np"
   ]
  },
  {
   "cell_type": "code",
   "execution_count": 8,
   "metadata": {},
   "outputs": [],
   "source": [
    "# 4つ揃ったか調べる\n",
    "def judgement(board,color,x,y):\n",
    "    win_color = 0\n",
    "    \"\"\"\n",
    "    if board[x, :].sum() == 4 * color \\\n",
    "        or board[:, y].sum() == 4 * color \\ #変更点なし\n",
    "        or (x == y and np.diag(board, k=0).sum() == 4 * color) \\\n",
    "        or (x == 2 - y and np.diag(board[::-1,:], k=0).sum() == 4 * color):\n",
    "            win_color = color\n",
    "    return win_color\n",
    "    \"\"\"    "
   ]
  },
  {
   "cell_type": "code",
   "execution_count": 116,
   "metadata": {},
   "outputs": [],
   "source": [
    "def row_color(row_list :list, color :int) -> bool:\n",
    "    color_count = 0\n",
    "    for index in range(len(row_list)):\n",
    "        if row_list[index] == color:\n",
    "            color_count += 1\n",
    "        else:\n",
    "            color_count = 0\n",
    "        if color_count == 4:\n",
    "            return True\n",
    "    return False\n"
   ]
  },
  {
   "cell_type": "code",
   "execution_count": 117,
   "metadata": {},
   "outputs": [],
   "source": [
    "#左上から右下\n",
    "def extract_diag(board, x, y) -> list:\n",
    "    for i in range(x-1, -1, -1):\n",
    "        y -= 1\n",
    "\n",
    "    new_list = np.diag(board, k=y)\n",
    "    return new_list"
   ]
  },
  {
   "cell_type": "code",
   "execution_count": 118,
   "metadata": {},
   "outputs": [],
   "source": [
    "#右上から左下\n",
    "def extract_diag2(board, x, y) -> list:\n",
    "    for i in range(x, -1, -1):\n",
    "        if y == 7:\n",
    "            y += 1\n",
    "            break\n",
    "        y += 1\n",
    "    \n",
    "    new_list = []\n",
    "    x = i\n",
    "    y -= 1\n",
    "\n",
    "    while(1):\n",
    "        if x > 5 or y < 0:\n",
    "            break\n",
    "        new_list.append(board[x][y])\n",
    "        x += 1\n",
    "        y -= 1\n",
    "    return new_list"
   ]
  },
  {
   "cell_type": "code",
   "execution_count": 119,
   "metadata": {},
   "outputs": [
    {
     "name": "stdout",
     "output_type": "stream",
     "text": [
      "[ 8  9 10 11 12 13 14 15]\n",
      "[ 1 10 19 28 37 46]\n",
      "[ 0  9 18 27 36 45]\n",
      "[31, 38, 45]\n"
     ]
    }
   ],
   "source": [
    "tmp_board = [i for i in range(6*8)]\n",
    "tmp_board =  np.reshape(tmp_board, [6,8])\n",
    "print(tmp_board[1,:])\n",
    "new_list = tmp_board[:,1]\n",
    "#print(new_list)\n",
    "print(np.diag(tmp_board,k=1))\n",
    "print(extract_diag(tmp_board,1,1))\n",
    "print(extract_diag2(tmp_board, 4, 6))\n",
    "#print(tmp_board)"
   ]
  },
  {
   "cell_type": "code",
   "execution_count": 109,
   "metadata": {},
   "outputs": [],
   "source": [
    "def judgement2(board,color,x,y):\n",
    "    win_color = 0\n",
    "    if row_color(board[x, :], color) \\\n",
    "        or board[:, y].sum() == 4 * color \\\n",
    "        or row_color(extract_diag(board, x, y),color) \\\n",
    "        or row_color(extract_diag2(board, x, y),color):\n",
    "            win_color = color\n",
    "    return win_color"
   ]
  },
  {
   "cell_type": "code",
   "execution_count": 112,
   "metadata": {},
   "outputs": [
    {
     "name": "stdout",
     "output_type": "stream",
     "text": [
      "1\n"
     ]
    }
   ],
   "source": [
    "board = np.zeros((6,8))\n",
    "\n",
    "board[5][3]=1\n",
    "board[4][4]=1\n",
    "board[3][5]=1\n",
    "board[2][6]=1\n",
    "\n",
    "print(judgement2(board, 1, 4, 4))"
   ]
  },
  {
   "cell_type": "code",
   "execution_count": 14,
   "metadata": {},
   "outputs": [
    {
     "name": "stdout",
     "output_type": "stream",
     "text": [
      "[ 3 11 19 27 35 43]\n"
     ]
    }
   ],
   "source": [
    "print(tmp_board[:,3]) #横一列"
   ]
  },
  {
   "cell_type": "code",
   "execution_count": 25,
   "metadata": {},
   "outputs": [],
   "source": [
    "board = np.zeros((6,8))"
   ]
  },
  {
   "cell_type": "code",
   "execution_count": 26,
   "metadata": {},
   "outputs": [
    {
     "data": {
      "text/plain": [
       "array([[0., 0., 0., 0., 0., 0., 0., 0.],\n",
       "       [0., 0., 0., 0., 0., 0., 0., 0.],\n",
       "       [0., 0., 0., 0., 0., 0., 1., 0.],\n",
       "       [0., 0., 0., 0., 0., 1., 0., 0.],\n",
       "       [0., 0., 0., 0., 1., 0., 0., 0.],\n",
       "       [0., 0., 0., 1., 0., 0., 0., 0.]])"
      ]
     },
     "execution_count": 26,
     "metadata": {},
     "output_type": "execute_result"
    }
   ],
   "source": [
    "board[5][3]=1\n",
    "board[4][4]=1\n",
    "board[3][5]=1\n",
    "board[2][6]=1\n",
    "board"
   ]
  },
  {
   "cell_type": "code",
   "execution_count": 23,
   "metadata": {},
   "outputs": [
    {
     "data": {
      "text/plain": [
       "0"
      ]
     },
     "execution_count": 23,
     "metadata": {},
     "output_type": "execute_result"
    }
   ],
   "source": [
    "judgement(board,1,2,6)"
   ]
  },
  {
   "cell_type": "code",
   "execution_count": 75,
   "metadata": {},
   "outputs": [
    {
     "ename": "ValueError",
     "evalue": "Input must be 1- or 2-d.",
     "output_type": "error",
     "traceback": [
      "\u001b[1;31m---------------------------------------------------------------------------\u001b[0m",
      "\u001b[1;31mValueError\u001b[0m                                Traceback (most recent call last)",
      "Input \u001b[1;32mIn [75]\u001b[0m, in \u001b[0;36m<cell line: 4>\u001b[1;34m()\u001b[0m\n\u001b[0;32m      2\u001b[0m row \u001b[38;5;241m=\u001b[39m \u001b[38;5;241m4\u001b[39m \u001b[38;5;66;03m#四つ揃えられれば良い\u001b[39;00m\n\u001b[0;32m      3\u001b[0m y \u001b[38;5;241m=\u001b[39m \u001b[38;5;241m0\u001b[39m\n\u001b[1;32m----> 4\u001b[0m \u001b[38;5;28mprint\u001b[39m(\u001b[43mnp\u001b[49m\u001b[38;5;241;43m.\u001b[39;49m\u001b[43mdiag\u001b[49m\u001b[43m(\u001b[49m\u001b[43mboard\u001b[49m\u001b[43m[\u001b[49m\u001b[38;5;241;43m0\u001b[39;49m\u001b[43m,\u001b[49m\u001b[38;5;241;43m1\u001b[39;49m\u001b[43m]\u001b[49m\u001b[43m,\u001b[49m\u001b[43m \u001b[49m\u001b[43mk\u001b[49m\u001b[38;5;241;43m=\u001b[39;49m\u001b[38;5;241;43m0\u001b[39;49m\u001b[43m)\u001b[49m)\n",
      "File \u001b[1;32m<__array_function__ internals>:5\u001b[0m, in \u001b[0;36mdiag\u001b[1;34m(*args, **kwargs)\u001b[0m\n",
      "File \u001b[1;32mc:\\Users\\az40t\\anaconda3\\lib\\site-packages\\numpy\\lib\\twodim_base.py:303\u001b[0m, in \u001b[0;36mdiag\u001b[1;34m(v, k)\u001b[0m\n\u001b[0;32m    301\u001b[0m     \u001b[38;5;28;01mreturn\u001b[39;00m diagonal(v, k)\n\u001b[0;32m    302\u001b[0m \u001b[38;5;28;01melse\u001b[39;00m:\n\u001b[1;32m--> 303\u001b[0m     \u001b[38;5;28;01mraise\u001b[39;00m \u001b[38;5;167;01mValueError\u001b[39;00m(\u001b[38;5;124m\"\u001b[39m\u001b[38;5;124mInput must be 1- or 2-d.\u001b[39m\u001b[38;5;124m\"\u001b[39m)\n",
      "\u001b[1;31mValueError\u001b[0m: Input must be 1- or 2-d."
     ]
    }
   ],
   "source": [
    "x = 5\n",
    "y = 0\n",
    "for i in range(7):\n",
    "    if "
   ]
  },
  {
   "cell_type": "code",
   "execution_count": 2,
   "metadata": {},
   "outputs": [],
   "source": [
    "BLACK, WHITE  = 1, -1\n",
    "class State_6_8_4:\n",
    "    '''○×ゲームの盤面実装'''\n",
    "    X, Y = 'ABCDEF',  '12345678'\n",
    "    C = {0: '_', BLACK: 'O', WHITE: 'X'}\n",
    "\n",
    "    def __init__(self):\n",
    "        self.board = np.zeros((6, 8)) # (x, y)\n",
    "        self.color = 1\n",
    "        self.win_color = 0\n",
    "        self.record = []\n",
    "        self.reverse_num = 0\n",
    "        self.round = 0\n",
    "    \n",
    "    def get_board(self):\n",
    "       return self.board\n",
    "\n",
    "    def action2str(self, a):\n",
    "        return self.X[a // 8] + self.Y[a % 8]\n",
    "\n",
    "    def str2action(self, s):\n",
    "        return self.X.find(s[0]) * 8 + self.Y.find(s[1])\n",
    "\n",
    "    def record_string(self):\n",
    "        return ' '.join([self.action2str(a) for a in self.record])\n",
    "\n",
    "    def __str__(self):\n",
    "        # 表示\n",
    "        s = '   ' + ' '.join(self.Y) + '\\n'\n",
    "        for i in range(6):\n",
    "            s += self.X[i] + ' ' + ' '.join([self.C[self.board[i, j]] for j in range(8)]) + '\\n'\n",
    "        s += 'record = ' + self.record_string()\n",
    "        return s\n",
    "    \n",
    "    def row_color(row_list :list, color :int) -> bool:\n",
    "        color_count = 0\n",
    "        for index in range(len(row_list)):\n",
    "            if row_list[index] == color:\n",
    "                color_count += 1\n",
    "            else:\n",
    "                color_count = 0\n",
    "            if color_count == 4:\n",
    "                return True\n",
    "        return False\n",
    "\n",
    "    #左上から右下\n",
    "    def extract_diag(self, x, y) -> list:\n",
    "        for i in range(x-1, -1, -1):\n",
    "            y -= 1\n",
    "        new_list = np.diag(self.board, k=y)\n",
    "        return new_list\n",
    "    \n",
    "    #右上から左下\n",
    "    def extract_diag2(self, x, y) -> list:\n",
    "        for i in range(x, -1, -1):\n",
    "            if y == 7:\n",
    "                y += 1\n",
    "                break\n",
    "            y += 1\n",
    "    \n",
    "        new_list = []\n",
    "        x = i\n",
    "        y -= 1\n",
    "\n",
    "        while(1):\n",
    "            if x > 5 or y < 0:\n",
    "                break\n",
    "            new_list.append(self.board[x][y])\n",
    "            x += 1\n",
    "            y -= 1\n",
    "        return new_list\n",
    "\n",
    "    def play(self, action, net, state):\n",
    "        # 行動で状態を進める関数\n",
    "        # action は board 上の位置 (0 ~ 8) または行動系列の文字列\n",
    "        if isinstance(action, str):\n",
    "            for astr in action.split():\n",
    "                self.play(self.str2action(astr))\n",
    "            return self\n",
    "\n",
    "        x, y = action // 8, action % 8\n",
    "        self.board[x, y] = self.color\n",
    "\n",
    "        \"\"\"\n",
    "        # 4つ揃ったか調べる\n",
    "        if self.board[x, :].sum() == 4 * self.color \\\n",
    "          or self.board[:, y].sum() == 4 * self.color \\\n",
    "          or (x == y and np.diag(self.board, k=0).sum() == 4 * self.color) \\\n",
    "          or (x == 2 - y and np.diag(self.board[::-1,:], k=0).sum() == 4 * self.color):\n",
    "            self.win_color = self.color\n",
    "        \"\"\"\n",
    "        #4つ揃ったか調べる\n",
    "        if self.row_color(self.board[x, :], self.color) \\\n",
    "            or self.board[:, y].sum() == 4 * self.color \\\n",
    "            or self.row_color(self.extract_diag(self.board, x, y),self.color) \\\n",
    "            or self.row_color(self.extract_diag2(self.board, x, y),self.color):\n",
    "                self.win_color = self.color\n",
    "        \n",
    "        print(\"round: \" + str(self.round))\n",
    "        if self.jadge(net, state) and self.reverse_num < 3:\n",
    "           #if self.jadge(net, state):\n",
    "              self.reverse()\n",
    "              self.reverse_num += 1\n",
    "\n",
    "        self.color = -self.color\n",
    "        self.record.append(action)\n",
    "        self.round += 1\n",
    "        return self\n",
    "\n",
    "    def terminal(self):\n",
    "        # 終端状態かどうか返す\n",
    "        return self.win_color != 0 or len(self.record) == 6 * 8\n",
    "\n",
    "    def terminal_reward(self):\n",
    "        # 終端状態での勝敗による報酬を返す\n",
    "        return self.win_color if self.color == BLACK else -self.win_color\n",
    "\n",
    "    ##############################################################\n",
    "    def legal_actions(self): #コードを変更\n",
    "        # 可能な行動リストを返す\n",
    "        vaild_pos = []\n",
    "        for col in range(8):\n",
    "           for row in range(5, -1, -1):\n",
    "              if self.board[row, col] == 0:\n",
    "                 vaild_pos.append(row*8+col)\n",
    "                 break\n",
    "        return vaild_pos\n",
    "        #return [a for a in range(6 * 8) if self.board[a // 8, a % 8] == 0]\n",
    "\n",
    "    def feature(self):\n",
    "        # ニューラルネットに入力する状態表現を返す\n",
    "        return np.stack([self.board == self.color, self.board == -self.color]).astype(np.float32)\n",
    "    \n",
    "    ##################################################\n",
    "    def jadge(self, net, state) -> bool:  #コードを書き加える\n",
    "      p, v = net.predict(state)\n",
    "      pt_upper_limit = 0.7 #上限 \n",
    "      pt_lower_limit = 0.6 #下限\n",
    "\n",
    "      if pt_lower_limit <= v <= pt_upper_limit:\n",
    "         return True \n",
    "      else:\n",
    "         return False\n",
    "      \n",
    "    def reverse(self):\n",
    "       for col in range(8):\n",
    "          for row in range(5, -1, -1):\n",
    "            if self.board[row][col] != 0:\n",
    "              self.board[row][col] *= -1\n",
    "            else:\n",
    "               break\n"
   ]
  },
  {
   "cell_type": "code",
   "execution_count": null,
   "metadata": {},
   "outputs": [],
   "source": [
    "state = State_6_8_4()"
   ]
  }
 ],
 "metadata": {
  "kernelspec": {
   "display_name": "base",
   "language": "python",
   "name": "python3"
  },
  "language_info": {
   "codemirror_mode": {
    "name": "ipython",
    "version": 3
   },
   "file_extension": ".py",
   "mimetype": "text/x-python",
   "name": "python",
   "nbconvert_exporter": "python",
   "pygments_lexer": "ipython3",
   "version": "3.9.12"
  }
 },
 "nbformat": 4,
 "nbformat_minor": 2
}
